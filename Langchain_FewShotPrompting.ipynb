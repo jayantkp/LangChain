{
 "cells": [
  {
   "cell_type": "code",
   "execution_count": 3,
   "metadata": {},
   "outputs": [],
   "source": [
    "import warnings\n",
    "import os\n",
    "warnings.filterwarnings('ignore')"
   ]
  },
  {
   "cell_type": "code",
   "execution_count": 2,
   "metadata": {},
   "outputs": [],
   "source": [
    "#Reading the API Key\n",
    "\n",
    "with open('openai_api_key.txt', 'r') as f:\n",
    "    api_key = f.read()\n",
    "os.environ['OPENAI_API_KEY'] = api_key"
   ]
  },
  {
   "cell_type": "code",
   "execution_count": 4,
   "metadata": {},
   "outputs": [
    {
     "name": "stderr",
     "output_type": "stream",
     "text": [
      "c:\\Users\\HP\\OneDrive\\Desktop\\LLMs_Intro\\langchain\\lib\\site-packages\\langchain_core\\_api\\deprecation.py:117: LangChainDeprecationWarning: The class `langchain_community.chat_models.openai.ChatOpenAI` was deprecated in langchain-community 0.0.10 and will be removed in 0.2.0. An updated version of the class exists in the langchain-openai package and should be used instead. To use it run `pip install -U langchain-openai` and import as `from langchain_openai import ChatOpenAI`.\n",
      "  warn_deprecated(\n"
     ]
    }
   ],
   "source": [
    "# Loading the chat model\n",
    "\n",
    "from langchain.chat_models import ChatOpenAI\n",
    "\n",
    "chat = ChatOpenAI()"
   ]
  },
  {
   "cell_type": "markdown",
   "metadata": {},
   "source": [
    "### Passing only the HumanMessage"
   ]
  },
  {
   "cell_type": "code",
   "execution_count": 5,
   "metadata": {},
   "outputs": [
    {
     "name": "stderr",
     "output_type": "stream",
     "text": [
      "c:\\Users\\HP\\OneDrive\\Desktop\\LLMs_Intro\\langchain\\lib\\site-packages\\langchain_core\\_api\\deprecation.py:117: LangChainDeprecationWarning: The function `__call__` was deprecated in LangChain 0.1.7 and will be removed in 0.2.0. Use invoke instead.\n",
      "  warn_deprecated(\n"
     ]
    },
    {
     "name": "stdout",
     "output_type": "stream",
     "text": [
      "The rising impact of AI on a country's GDP is becoming increasingly significant as the technology continues to advance and be integrated into various industries. AI has the potential to boost productivity, improve efficiency, and drive innovation in sectors such as healthcare, finance, manufacturing\n"
     ]
    }
   ],
   "source": [
    "from langchain.schema import SystemMessage, HumanMessage,AIMessage\n",
    "\n",
    "messages = [HumanMessage(content = 'Tell me something about the rising impact of AI over GDP of a country. ')]\n",
    "response = chat(messages = messages, max_tokens = 50)\n",
    "print(response.content)"
   ]
  },
  {
   "cell_type": "markdown",
   "metadata": {},
   "source": [
    "### Adding the SystemMessage"
   ]
  },
  {
   "cell_type": "code",
   "execution_count": 6,
   "metadata": {},
   "outputs": [
    {
     "name": "stdout",
     "output_type": "stream",
     "text": [
      "As a movie director, I would create a thought-provoking and visually stunning film that explores the rising impact of AI on the GDP of a country. The film would follow the journey of a group of economists, policymakers, and technology experts as they\n"
     ]
    }
   ],
   "source": [
    "messages = [\n",
    "    SystemMessage(content = 'Consider yourself as a movie director'),\n",
    "    HumanMessage(content = \"Tell me something about the rising impact of AI over GDP of a country. '\")\n",
    "]\n",
    "response = chat(messages = messages, max_tokens = 50)\n",
    "print(response.content)"
   ]
  },
  {
   "cell_type": "markdown",
   "metadata": {},
   "source": [
    "### Few Shot Prompting using HumanMessage and AIMessage"
   ]
  },
  {
   "cell_type": "code",
   "execution_count": 8,
   "metadata": {},
   "outputs": [],
   "source": [
    "system_message = \"Consider yourself as a movie director\"\n",
    "\n",
    "user_dialogue1 = \"Sci-fi film, opening scene. Introduce a lone astronaut exploring a deserted spaceship.\"\n",
    "sample_response1 = \"We see the astronaut's gloved hand slowly open a hatch, revealing the desolate interior of the spaceship. Dust motes dance in the faint light filtering through cracks in the hull. Silence hangs heavy, broken only by the rhythmic hiss of the failing life support system.\"\n",
    "\n",
    "user_dialogue2 = \"Comedy, two detectives with contrasting styles meet for the first time. \"\n",
    "sample_response2 = \"The door swings open, revealing a gruff detective in a rumpled trench coat. He's followed by a tech-savvy partner, their brightly colored gadgets contrasting sharply with the detective's old-school demeanor. A beat of awkward silence hangs in the air before the techie breaks the tension with a quip, eliciting a gruff chuckle from the seasoned detective.\"\n",
    "\n",
    "user_dialogue3 = \"Emotional scene, two friends reunite after a long estrangement. \"\n",
    "sample_response3 = \"A hesitant knock at the door. It creaks open, revealing a weary face etched with years of unspoken longing. Tears well up in their eyes as they meet the gaze of their old friend, a silent understanding passing between them. A warm embrace, a lifetime of unspoken words exchanged in a single moment.\"\n",
    "\n",
    "messages = [\n",
    "    SystemMessage(content = system_message),\n",
    "    \n",
    "    HumanMessage(content = user_dialogue1),\n",
    "    AIMessage(content=sample_response1),\n",
    "    \n",
    "    HumanMessage(content = user_dialogue2),\n",
    "    AIMessage(content=sample_response2),\n",
    "    \n",
    "    HumanMessage(content = user_dialogue3),\n",
    "    AIMessage(content=sample_response3),\n",
    "    \n",
    "    HumanMessage(content = 'Tell me something about the rising impact of AI over GDP of a country.')\n",
    "    \n",
    "]"
   ]
  },
  {
   "cell_type": "code",
   "execution_count": 9,
   "metadata": {},
   "outputs": [
    {
     "name": "stdout",
     "output_type": "stream",
     "text": [
      "The camera pans across a bustling metropolis, showcasing sleek robots and futuristic technology seamlessly integrated into daily life. Graphs and charts flash on screens, depicting the exponential rise of AI's contribution to the country's GDP. In boardrooms and government offices, heated debates rage on the ethical implications and economic consequences of this technological revolution. The stakes are high, and the future hangs in the balance.\n"
     ]
    }
   ],
   "source": [
    "\n",
    "response = chat(messages = messages, temperature = 1, presence_penalty = 0, max_tokens = 100)\n",
    "print(response.content)"
   ]
  },
  {
   "cell_type": "code",
   "execution_count": null,
   "metadata": {},
   "outputs": [],
   "source": []
  }
 ],
 "metadata": {
  "kernelspec": {
   "display_name": "Python 3.10.2 ('langchain': venv)",
   "language": "python",
   "name": "python3"
  },
  "language_info": {
   "codemirror_mode": {
    "name": "ipython",
    "version": 3
   },
   "file_extension": ".py",
   "mimetype": "text/x-python",
   "name": "python",
   "nbconvert_exporter": "python",
   "pygments_lexer": "ipython3",
   "version": "3.10.2"
  },
  "orig_nbformat": 4,
  "vscode": {
   "interpreter": {
    "hash": "76c9d8d57a8e5cf93db91218211e93d74a6f6696cad39ace9884e9d15ed999d6"
   }
  }
 },
 "nbformat": 4,
 "nbformat_minor": 2
}
