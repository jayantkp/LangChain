{
 "cells": [
  {
   "cell_type": "code",
   "execution_count": 6,
   "metadata": {},
   "outputs": [],
   "source": [
    "import warnings\n",
    "import os\n",
    "warnings.filterwarnings('ignore')"
   ]
  },
  {
   "cell_type": "code",
   "execution_count": 7,
   "metadata": {},
   "outputs": [],
   "source": [
    "#Reading the API Key\n",
    "\n",
    "with open('../openai_api_key.txt', 'r') as f:\n",
    "    api_key = f.read()\n",
    "os.environ['OPENAI_API_KEY'] = api_key"
   ]
  },
  {
   "cell_type": "code",
   "execution_count": 8,
   "metadata": {},
   "outputs": [],
   "source": [
    "from langchain.chat_models import ChatOpenAI\n",
    "from langchain.schema import HumanMessage"
   ]
  },
  {
   "cell_type": "markdown",
   "metadata": {},
   "source": [
    "### Response Caching"
   ]
  },
  {
   "cell_type": "code",
   "execution_count": 9,
   "metadata": {},
   "outputs": [],
   "source": [
    "from langchain.globals import set_llm_cache\n",
    "chat = ChatOpenAI()\n"
   ]
  },
  {
   "cell_type": "code",
   "execution_count": 10,
   "metadata": {},
   "outputs": [
    {
     "name": "stdout",
     "output_type": "stream",
     "text": [
      "Why couldn't the bicycle find its way home? Because it lost its bearings!\n",
      "CPU times: total: 812 ms\n",
      "Wall time: 2.76 s\n"
     ]
    }
   ],
   "source": [
    "%%time\n",
    "from langchain.cache import InMemoryCache\n",
    "set_llm_cache(InMemoryCache())\n",
    "\n",
    "# First request, it is not yet in cache, so it should take longer\n",
    "messages = [HumanMessage(content = 'Tell me a joke')]\n",
    "response = chat(messages = messages, max_tokens = 50)\n",
    "print(response.content)"
   ]
  },
  {
   "cell_type": "code",
   "execution_count": 11,
   "metadata": {},
   "outputs": [
    {
     "name": "stdout",
     "output_type": "stream",
     "text": [
      "Why couldn't the bicycle find its way home? Because it lost its bearings!\n",
      "CPU times: total: 15.6 ms\n",
      "Wall time: 2 ms\n"
     ]
    }
   ],
   "source": [
    "%%time\n",
    "# Second request is faster, as response is cached\n",
    "messages = [HumanMessage(content = 'Tell me a joke')]\n",
    "response = chat(messages = messages, max_tokens = 50)\n",
    "print(response.content)"
   ]
  },
  {
   "cell_type": "markdown",
   "metadata": {},
   "source": [
    "### Prompt Templating"
   ]
  },
  {
   "cell_type": "code",
   "execution_count": 12,
   "metadata": {},
   "outputs": [
    {
     "name": "stdout",
     "output_type": "stream",
     "text": [
      "\n",
      "\n",
      "Insurance is a contract between an individual or entity (the policyholder) and an insurance company, where the policyholder pays a premium in exchange for protection against potential financial losses. The insurance company agrees to cover the costs of certain risks, such as property damage, illness, or death, as outlined in the insurance policy.\n",
      "\n",
      "There are many types of insurance, including life, health, property, auto, and liability insurance. Each type of insurance covers different risks and provides varying levels of coverage. For example, life insurance provides financial support for the policyholder's loved ones in the event of their death, while health insurance covers medical expenses.\n",
      "\n",
      "Insurance works on the principle of risk pooling, where a large group of people pay premiums into a pool, and the insurance company uses those funds to pay out claims to the few who experience a covered loss. This allows individuals to protect themselves against potential financial losses without having to bear the entire burden themselves.\n",
      "\n",
      "Insurance policies often include deductibles, which are the amount the policyholder must pay out of pocket before the insurance company covers the remaining costs. They also typically have coverage limits, which is the maximum amount the insurance company will pay for a covered loss.\n",
      "\n",
      "In addition to providing financial protection, insurance also plays a vital role in the economy.\n"
     ]
    }
   ],
   "source": [
    "# Using Format strings\n",
    "from langchain.llms import OpenAI\n",
    "llm = OpenAI()\n",
    "\n",
    "prompt_template = \"Tell me something about {topic}\"\n",
    "print(llm(prompt_template.format(topic='Insurance')))\n",
    "\n",
    "# Insurance is a contract between an individual or organization (the insured) and an insurance company (the insurer) where the insurer agrees to provide financial compensation for specified losses, damages, or injuries in exchange for a premium. The purpose of insurance is to protect against the risk of financial loss due to unexpected events such as accidents, illness, natural disasters, or death. Insurance can cover various aspects of life, including health, property, life, and liability. The amount of coverage and the cost of premiums depend on factors such as the type of insurance, the level of risk, and the individual's age and health. Insurance is typically required for certain activities, such as driving a car or owning a home, and can provide peace of mind and financial security for individuals and businesses."
   ]
  },
  {
   "cell_type": "code",
   "execution_count": 13,
   "metadata": {},
   "outputs": [
    {
     "name": "stdout",
     "output_type": "stream",
     "text": [
      "\n",
      "\n",
      "Insurance is a contract between an individual or entity (the policyholder) and an insurance company, where the policyholder pays a premium in exchange for protection against potential financial losses. The insurance company agrees to cover the costs of certain risks, such as property damage, illness, or death, as outlined in the insurance policy.\n",
      "\n",
      "There are many types of insurance, including life, health, property, auto, and liability insurance. Each type of insurance covers different risks and provides varying levels of coverage. For example, life insurance provides financial support for the policyholder's loved ones in the event of their death, while health insurance covers medical expenses.\n",
      "\n",
      "Insurance works on the principle of risk pooling, where a large group of people pay premiums into a pool, and the insurance company uses those funds to pay out claims to the few who experience a covered loss. This allows individuals to protect themselves against potential financial losses without having to bear the entire burden themselves.\n",
      "\n",
      "Insurance policies often include deductibles, which are the amount the policyholder must pay out of pocket before the insurance company covers the remaining costs. They also typically have coverage limits, which is the maximum amount the insurance company will pay for a covered loss.\n",
      "\n",
      "In addition to providing financial protection, insurance also plays a vital role in the economy.\n"
     ]
    }
   ],
   "source": [
    "# Using f-string literals\n",
    "\n",
    "topic = 'Insurance'\n",
    "prompt_template = f\"Tell me something about {topic}\"\n",
    "print(llm(prompt_template))\n",
    "\n",
    "# Insurance is a contract between an individual or organization (the insured) and an insurance company (the insurer) where the insurer agrees to provide financial compensation for specified losses, damages, or injuries in exchange for a premium. The purpose of insurance is to protect against the risk of financial loss due to unexpected events such as accidents, illness, natural disasters, or death. Insurance can cover various aspects of life, including health, property, life, and liability. The amount of coverage and the cost of premiums depend on factors such as the type of insurance, the level of risk, and the individual's age and health. Insurance is typically required for certain activities, such as driving a car or owning a home, and can provide peace of mind and financial security for individuals and businesses."
   ]
  },
  {
   "cell_type": "code",
   "execution_count": 14,
   "metadata": {},
   "outputs": [
    {
     "data": {
      "text/plain": [
       "' Tell me something about data science'"
      ]
     },
     "execution_count": 14,
     "metadata": {},
     "output_type": "execute_result"
    }
   ],
   "source": [
    "def get_prompt(topic):\n",
    "    prompt = f\" Tell me something about {topic}\"\n",
    "    return prompt\n",
    "get_prompt(topic = 'data science')"
   ]
  },
  {
   "cell_type": "markdown",
   "metadata": {},
   "source": [
    "Prompt Templating using langchain Prompt Template"
   ]
  },
  {
   "cell_type": "code",
   "execution_count": 15,
   "metadata": {},
   "outputs": [
    {
     "name": "stdout",
     "output_type": "stream",
     "text": [
      "\n",
      "\n",
      "Insurance is a contract between an individual or entity (the policyholder) and an insurance company, where the policyholder pays a premium in exchange for protection against potential financial losses. The insurance company agrees to cover the costs of certain risks, such as property damage, illness, or death, as outlined in the insurance policy.\n",
      "\n",
      "There are many types of insurance, including life, health, property, auto, and liability insurance. Each type of insurance covers different risks and provides varying levels of coverage. For example, life insurance provides financial support for the policyholder's loved ones in the event of their death, while health insurance covers medical expenses.\n",
      "\n",
      "Insurance works on the principle of risk pooling, where a large group of people pay premiums into a pool, and the insurance company uses those funds to pay out claims to the few who experience a covered loss. This allows individuals to protect themselves against potential financial losses without having to bear the entire burden themselves.\n",
      "\n",
      "Insurance policies often include deductibles, which are the amount the policyholder must pay out of pocket before the insurance company covers the remaining costs. They also typically have coverage limits, which is the maximum amount the insurance company will pay for a covered loss.\n",
      "\n",
      "In addition to providing financial protection, insurance also plays a vital role in the economy.\n"
     ]
    }
   ],
   "source": [
    "# Using format strings with langchain schema\n",
    "from langchain.schema import SystemMessage\n",
    "prompt_template = \"Tell me something about {topic}\"\n",
    "system_prompt = SystemMessage(prompt_template.format(topic = 'Insurance'))\n",
    "print(llm(system_prompt.content))\n"
   ]
  },
  {
   "cell_type": "code",
   "execution_count": 16,
   "metadata": {},
   "outputs": [
    {
     "data": {
      "text/plain": [
       "'Tell me something about Data Science'"
      ]
     },
     "execution_count": 16,
     "metadata": {},
     "output_type": "execute_result"
    }
   ],
   "source": [
    "from langchain.prompts import PromptTemplate\n",
    "prompt_template = PromptTemplate(\n",
    "    input_variables = [''],\n",
    "    template = \"Tell me something about {topic}\"\n",
    ")\n",
    "prompt = prompt_template.format(topic = 'Data Science')\n",
    "prompt"
   ]
  },
  {
   "cell_type": "code",
   "execution_count": 17,
   "metadata": {},
   "outputs": [
    {
     "data": {
      "text/plain": [
       "'Tell me something about Data Science in 30 words'"
      ]
     },
     "execution_count": 17,
     "metadata": {},
     "output_type": "execute_result"
    }
   ],
   "source": [
    "# adding more elements \n",
    "prompt_template = PromptTemplate(\n",
    "    input_variables=['topic','num_words'],\n",
    "    template=\"Tell me something about {topic} in {num_words} words\"\n",
    ")\n",
    "prompt = prompt_template.format(topic = 'Data Science',num_words = 30)\n",
    "prompt"
   ]
  },
  {
   "cell_type": "markdown",
   "metadata": {},
   "source": [
    "Prompt Templating using langchain prompt templates"
   ]
  },
  {
   "cell_type": "code",
   "execution_count": 18,
   "metadata": {},
   "outputs": [
    {
     "name": "stdout",
     "output_type": "stream",
     "text": [
      "messages=[HumanMessage(content='Tell me something about Insurance')]\n",
      "[HumanMessage(content='Tell me something about Insurance')]\n"
     ]
    },
    {
     "data": {
      "text/plain": [
       "AIMessage(content='Insurance is a contract between an individual or organization (the policyholder) and an insurance company, in which the insurance company agrees to provide financial protection or reimbursement for specified losses or damages in exchange for the payment of a premium. There are many different types of insurance, including health insurance, life insurance, auto insurance, and property insurance. Insurance helps individuals and businesses manage risk and protect themselves from financial losses in the event of an unexpected event or disaster.')"
      ]
     },
     "execution_count": 18,
     "metadata": {},
     "output_type": "execute_result"
    }
   ],
   "source": [
    "from langchain.prompts.chat import HumanMessagePromptTemplate, ChatPromptTemplate\n",
    "\n",
    "human_template = \"Tell me something about {topic}\"\n",
    "human_message_prompt = HumanMessagePromptTemplate.from_template(human_template)\n",
    "\n",
    "chat_prompt = ChatPromptTemplate.from_messages([human_message_prompt])\n",
    "\n",
    "prompt = chat_prompt.format_prompt(topic = 'Insurance')\n",
    "print(prompt)\n",
    "\n",
    "# to get the messages from ChatPromptValue\n",
    "messages = prompt.messages\n",
    "print(messages)\n",
    "\n",
    "# getting response from chat model\n",
    "response = chat(messages = messages)\n",
    "response\n",
    "\n"
   ]
  },
  {
   "cell_type": "markdown",
   "metadata": {},
   "source": [
    "### 2nd example"
   ]
  },
  {
   "cell_type": "code",
   "execution_count": 19,
   "metadata": {},
   "outputs": [],
   "source": [
    "from langchain.prompts.chat import HumanMessagePromptTemplate,SystemMessagePromptTemplate,ChatPromptTemplate"
   ]
  },
  {
   "cell_type": "markdown",
   "metadata": {},
   "source": [
    "##### System Message Prompt Template"
   ]
  },
  {
   "cell_type": "code",
   "execution_count": 20,
   "metadata": {},
   "outputs": [
    {
     "data": {
      "text/plain": [
       "SystemMessagePromptTemplate(prompt=PromptTemplate(input_variables=['character'], template='You are a {character}'))"
      ]
     },
     "execution_count": 20,
     "metadata": {},
     "output_type": "execute_result"
    }
   ],
   "source": [
    "system_template = \"You are a {character}\"\n",
    "system_message_prompt= SystemMessagePromptTemplate.from_template(system_template)\n",
    "system_message_prompt"
   ]
  },
  {
   "cell_type": "markdown",
   "metadata": {},
   "source": [
    "#### Human Message Prompt Template"
   ]
  },
  {
   "cell_type": "code",
   "execution_count": 21,
   "metadata": {},
   "outputs": [
    {
     "data": {
      "text/plain": [
       "HumanMessagePromptTemplate(prompt=PromptTemplate(input_variables=['item1', 'item2'], template='Write a crime scene involving {item1} in a {item2}'))"
      ]
     },
     "execution_count": 21,
     "metadata": {},
     "output_type": "execute_result"
    }
   ],
   "source": [
    "human_template = \"Write a crime scene involving {item1} in a {item2}\"\n",
    "human_message_prompt = HumanMessagePromptTemplate.from_template(human_template)\n",
    "human_message_prompt"
   ]
  },
  {
   "cell_type": "markdown",
   "metadata": {},
   "source": [
    "#### Chat Prompt Template"
   ]
  },
  {
   "cell_type": "code",
   "execution_count": 22,
   "metadata": {},
   "outputs": [
    {
     "data": {
      "text/plain": [
       "ChatPromptTemplate(input_variables=['character', 'item1', 'item2'], messages=[SystemMessagePromptTemplate(prompt=PromptTemplate(input_variables=['character'], template='You are a {character}')), HumanMessagePromptTemplate(prompt=PromptTemplate(input_variables=['item1', 'item2'], template='Write a crime scene involving {item1} in a {item2}'))])"
      ]
     },
     "execution_count": 22,
     "metadata": {},
     "output_type": "execute_result"
    }
   ],
   "source": [
    "chat_prompt = ChatPromptTemplate.from_messages([system_message_prompt,human_message_prompt])\n",
    "chat_prompt"
   ]
  },
  {
   "cell_type": "code",
   "execution_count": 23,
   "metadata": {},
   "outputs": [
    {
     "data": {
      "text/plain": [
       "[SystemMessage(content='You are a Writer'),\n",
       " HumanMessage(content='Write a crime scene involving robbery in a mansion')]"
      ]
     },
     "execution_count": 23,
     "metadata": {},
     "output_type": "execute_result"
    }
   ],
   "source": [
    "prompt = chat_prompt.format_prompt(character = 'Writer', item1 = 'robbery', item2 = 'mansion')\n",
    "prompt.messages"
   ]
  },
  {
   "cell_type": "code",
   "execution_count": 24,
   "metadata": {},
   "outputs": [
    {
     "data": {
      "text/plain": [
       "'The grand mansion stood silent and imposing in the moonlit night, its ornate gates creaking softly in the wind. Inside, a lavish party had been in full swing, with guests sipping champagne and dancing to the music echoing through the opulent halls. But now, the mansion was shrouded in darkness, the only sound the faint rustling of leaves outside.\\n\\nDetective Jameson stepped out of his car, the flashing lights of the police cars illuminating the scene in an eerie'"
      ]
     },
     "execution_count": 24,
     "metadata": {},
     "output_type": "execute_result"
    }
   ],
   "source": [
    "response = chat(messages = prompt.messages, max_tokens = 100)\n",
    "response.content"
   ]
  },
  {
   "cell_type": "markdown",
   "metadata": {},
   "source": [
    "### Prompt Serialization"
   ]
  },
  {
   "cell_type": "code",
   "execution_count": 25,
   "metadata": {},
   "outputs": [],
   "source": [
    "from langchain.prompts import PromptTemplate\n",
    "prompt_template = PromptTemplate(\n",
    "    input_variables = [''],\n",
    "    template = \"Tell me something about {topic}\"\n",
    ")\n",
    "prompt_template.save('prompt.json')"
   ]
  },
  {
   "cell_type": "code",
   "execution_count": 26,
   "metadata": {},
   "outputs": [
    {
     "data": {
      "text/plain": [
       "{'name': None,\n",
       " 'input_variables': ['topic'],\n",
       " 'input_types': {},\n",
       " 'output_parser': None,\n",
       " 'partial_variables': {},\n",
       " 'metadata': None,\n",
       " 'tags': None,\n",
       " 'template': 'Tell me something about {topic}',\n",
       " 'template_format': 'f-string',\n",
       " 'validate_template': False,\n",
       " '_type': 'prompt'}"
      ]
     },
     "execution_count": 26,
     "metadata": {},
     "output_type": "execute_result"
    }
   ],
   "source": [
    "import json\n",
    "f = open('prompt.json')\n",
    "data = json.load(f)\n",
    "data"
   ]
  },
  {
   "cell_type": "code",
   "execution_count": 27,
   "metadata": {},
   "outputs": [
    {
     "data": {
      "text/plain": [
       "PromptTemplate(input_variables=['topic'], template='Tell me something about {topic}')"
      ]
     },
     "execution_count": 27,
     "metadata": {},
     "output_type": "execute_result"
    }
   ],
   "source": [
    "# loading the prompt template\n",
    "from langchain.prompts import load_prompt\n",
    "loaded_prompt = load_prompt('prompt.json')\n",
    "loaded_prompt"
   ]
  },
  {
   "cell_type": "code",
   "execution_count": null,
   "metadata": {},
   "outputs": [],
   "source": []
  }
 ],
 "metadata": {
  "kernelspec": {
   "display_name": "Python 3.10.2 ('langchain': venv)",
   "language": "python",
   "name": "python3"
  },
  "language_info": {
   "codemirror_mode": {
    "name": "ipython",
    "version": 3
   },
   "file_extension": ".py",
   "mimetype": "text/x-python",
   "name": "python",
   "nbconvert_exporter": "python",
   "pygments_lexer": "ipython3",
   "version": "3.10.2"
  },
  "orig_nbformat": 4,
  "vscode": {
   "interpreter": {
    "hash": "76c9d8d57a8e5cf93db91218211e93d74a6f6696cad39ace9884e9d15ed999d6"
   }
  }
 },
 "nbformat": 4,
 "nbformat_minor": 2
}
